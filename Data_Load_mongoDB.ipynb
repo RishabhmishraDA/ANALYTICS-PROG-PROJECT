{
 "cells": [
  {
   "cell_type": "code",
   "execution_count": 14,
   "id": "83932191-ed2c-4356-aa07-da174e6c59dc",
   "metadata": {},
   "outputs": [],
   "source": [
    "import pymongo\n",
    "import pandas as pd\n",
    "import json\n",
    "\n",
    "# Connecting to MongoDB Server\n",
    "client = pymongo.MongoClient(\"mongodb://localhost:27017/\")\n",
    "\n",
    "# Access the database\n",
    "db = client[\"co2_renew_life_db\"]\n"
   ]
  },
  {
   "cell_type": "code",
   "execution_count": 15,
   "id": "ad634beb-d81a-4bbf-b158-aae0bed61a09",
   "metadata": {},
   "outputs": [
    {
     "name": "stdout",
     "output_type": "stream",
     "text": [
      "Inserted 26182 carbon emissions records into MongoDB\n",
      "Inserted 4903 renewable energy records into MongoDB\n",
      "Inserted 21565 life expectancy records into MongoDB\n"
     ]
    }
   ],
   "source": [
    "\n",
    "# Loading and Inserting Carbon Emissions Data\n",
    "carbon_emissions_df = pd.read_csv(\"C:\\\\Users\\\\risha\\\\Downloads\\\\co2_emissions_per_capita (2).csv\")\n",
    "carbon_emissions_data = carbon_emissions_df.to_dict(orient=\"records\")\n",
    "carbon_collection = db[\"carbon_emissions\"]\n",
    "carbon_collection.insert_many(carbon_emissions_data)\n",
    "print(f\"Inserted {len(carbon_emissions_data)} carbon emissions records into MongoDB\")\n",
    "\n",
    "# Loading and Inserting Renewable Energy Data\n",
    "renewable_df = pd.read_csv(\"C:\\\\Users\\\\risha\\\\Downloads\\\\renewable_share_energy (1).csv\")\n",
    "renewable_data = renewable_df.to_dict(orient=\"records\")\n",
    "renewable_collection = db[\"renewable_energy\"]\n",
    "renewable_collection.insert_many(renewable_data)\n",
    "print(f\"Inserted {len(renewable_data)} renewable energy records into MongoDB\")\n",
    "\n",
    "# Loading and Inserting Life Expectancy Data\n",
    "life_expectancy_df = pd.read_csv(\"C:\\\\Users\\\\risha\\\\Downloads\\\\life_expectancy (2).csv\")\n",
    "life_expectancy_data = life_expectancy_df.to_dict(orient=\"records\")\n",
    "life_expectancy_collection = db[\"life_expectancy\"]\n",
    "life_expectancy_collection.insert_many(life_expectancy_data)\n",
    "print(f\"Inserted {len(life_expectancy_data)} life expectancy records into MongoDB\")\n",
    "\n",
    "# Closing the MongoDB connection\n",
    "client.close()"
   ]
  },
  {
   "cell_type": "code",
   "execution_count": null,
   "id": "cf179ba2-d762-4881-b81c-7492d25f99ea",
   "metadata": {},
   "outputs": [],
   "source": []
  }
 ],
 "metadata": {
  "kernelspec": {
   "display_name": "Python 3 (ipykernel)",
   "language": "python",
   "name": "python3"
  },
  "language_info": {
   "codemirror_mode": {
    "name": "ipython",
    "version": 3
   },
   "file_extension": ".py",
   "mimetype": "text/x-python",
   "name": "python",
   "nbconvert_exporter": "python",
   "pygments_lexer": "ipython3",
   "version": "3.11.5"
  }
 },
 "nbformat": 4,
 "nbformat_minor": 5
}
